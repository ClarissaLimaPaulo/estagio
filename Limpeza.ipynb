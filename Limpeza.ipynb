{
  "nbformat": 4,
  "nbformat_minor": 0,
  "metadata": {
    "colab": {
      "provenance": []
    },
    "kernelspec": {
      "name": "python3",
      "display_name": "Python 3"
    },
    "language_info": {
      "name": "python"
    }
  },
  "cells": [
    {
      "cell_type": "code",
      "source": [
        "# Instalar as bibliotecas\n",
        "!pip install pandas\n",
        "!pip install nltk\n",
        "!pip install spacy\n",
        "!python -m spacy download pt_core_news_sm\n",
        "\n",
        "# Carregar as bibliotecas\n",
        "import pandas as pd\n",
        "import spacy\n",
        "import re\n",
        "import unicodedata"
      ],
      "metadata": {
        "id": "QSK1u1sEYxud"
      },
      "execution_count": null,
      "outputs": []
    },
    {
      "cell_type": "code",
      "source": [
        "# Importando a library Natural Language Toolkit - NLTK para tratamento de linguagem natural\n",
        "import nltk\n",
        "nltk.download('wordnet')\n",
        "nltk.download('punkt')\n",
        "from nltk.tokenize import word_tokenize, sent_tokenize\n",
        "from nltk.util import ngrams\n",
        "\n",
        "# Importar as stopwords\n",
        "nltk.download('stopwords') # mudei essa pra portugues\n",
        "from nltk.corpus import stopwords\n",
        "stopwords = set(stopwords.words('portuguese'))"
      ],
      "metadata": {
        "id": "s9RWrkwzZCBj"
      },
      "execution_count": null,
      "outputs": []
    },
    {
      "cell_type": "code",
      "source": [
        "# Abrindo e lendo o arquivo JSON\n",
        "# Pressupondo que o arquivo JSON tem uma estrutura em que os textos estão em uma coluna chamada \"TRANSCRITO\".\n",
        "# Caso o nome ou estrutura seja diferente, ajuste os campos abaixo.\n",
        "\n",
        "# Carregar o arquivo JSON\n",
        "file_path = '/content/unified_data.json'  # Altere o caminho conforme necessário\n",
        "df = pd.read_json(file_path)\n",
        "\n",
        "# Verificar as primeiras linhas para confirmar os dados\n",
        "df.head()"
      ],
      "metadata": {
        "id": "jAggTbiKZFB8"
      },
      "execution_count": null,
      "outputs": []
    },
    {
      "cell_type": "code",
      "source": [
        "# Lematizando o texto\n",
        "# Carregando o modelo de linguagem spaCy na língua portuguesa\n",
        "nlp = spacy.load('pt_core_news_sm')\n",
        "\n",
        "# Função para lematizar o texto\n",
        "def lemmatize_text(text):\n",
        "    doc = nlp(text)  # Processa o texto com spaCy\n",
        "    return ' '.join([token.lemma_ for token in doc])  # Retorna o texto lematizado\n",
        "\n",
        "# Aplica a função de lematização à coluna do corpus textual\n",
        "df['Transcrito_Lematizado'] = df['content'].apply(lemmatize_text)\n",
        "\n",
        "# Exibir os resultados com a coluna lematizada\n",
        "df.head()"
      ],
      "metadata": {
        "id": "g575E11gZGup"
      },
      "execution_count": null,
      "outputs": []
    },
    {
      "cell_type": "code",
      "source": [
        "# Função para retirar caracteres não ASCII\n",
        "def remove_non_ascii(word):\n",
        "    new_word = unicodedata.normalize('NFKD', word).encode('ascii', 'ignore').decode('utf-8', 'ignore')\n",
        "    return new_word\n",
        "\n",
        "# Função para processar cada célula individualmente\n",
        "def process_text(text):\n",
        "    text = re.sub(r'\\s+', ' ', text)\n",
        "    text = re.sub(r\"\\'\", \"\", text)\n",
        "    text = text.lower()\n",
        "    words = text.split()\n",
        "    words = [remove_non_ascii(word) for word in words]\n",
        "    return ' '.join(words)\n",
        "\n",
        "# Aplicar essa função a todas as células\n",
        "df['Transcrito_Processado'] = df['Transcrito_Lematizado'].apply(process_text)\n",
        "\n",
        "# Exibir os resultados com a coluna limpa\n",
        "df.head()"
      ],
      "metadata": {
        "id": "qpG_SM-eZIAi"
      },
      "execution_count": null,
      "outputs": []
    },
    {
      "cell_type": "code",
      "source": [
        "# Removendo as stopwords\n",
        "def remove_stopwords_and_non_ascii(text):\n",
        "    words = text.split()\n",
        "    words_without_stopwords = [word for word in words if word not in stopwords]\n",
        "    cleaned_text = ' '.join(words_without_stopwords)\n",
        "    return cleaned_text\n",
        "\n",
        "# Aplicando a função remove_stopwords_and_non_ascii à coluna 'Transcrito_Processado'\n",
        "df['Transcrito_Limpo'] = df['Transcrito_Processado'].apply(remove_stopwords_and_non_ascii)\n",
        "\n",
        "# Exibir os resultados\n",
        "df.head()"
      ],
      "metadata": {
        "id": "4jfD_O68ZJ9S"
      },
      "execution_count": null,
      "outputs": []
    },
    {
      "cell_type": "code",
      "source": [
        "from functools import wraps\n",
        "import time\n",
        "import spacy\n",
        "import string\n",
        "\n",
        "def timeit(func):\n",
        "    @wraps(func)\n",
        "    def wrapper(*args, **kwargs):\n",
        "        start = time.perf_counter()\n",
        "        result = func(*args, **kwargs)\n",
        "        end = time.perf_counter()\n",
        "        print(f\"{func.__name__} took {end - start:.4f} seconds\")\n",
        "        return result\n",
        "    return wrapper\n",
        "\n",
        "@timeit\n",
        "def clean_text(text):\n",
        "    # Load the Portuguese language model\n",
        "    nlp = spacy.load('pt_core_news_sm')\n",
        "\n",
        "    # Convert to lowercase\n",
        "    text = text.lower()\n",
        "\n",
        "    # Remove punctuation (including quotation marks, periods, commas)\n",
        "    text = text.translate(str.maketrans('', '', string.punctuation))\n",
        "\n",
        "    # Process the text\n",
        "    doc = nlp(text)\n",
        "\n",
        "    # Define sets of parts of speech to remove\n",
        "    remove_pos = {\n",
        "        'NUM',      # Numbers\n",
        "        'ADP',      # Prepositions\n",
        "        'DET',      # Determiners (articles)\n",
        "        'CCONJ',    # Coordinating conjunctions\n",
        "        'SCONJ',    # Subordinating conjunctions\n",
        "        'PRON',     # Pronouns\n",
        "    }\n",
        "\n",
        "    # Common verbs to remove (you can expand this list)\n",
        "    common_verbs = {\n",
        "        'ser', 'estar', 'ter', 'haver', 'ir', 'poder',\n",
        "        'dever', 'ficar', 'fazer', 'dizer', 'dar',\n",
        "        'ver', 'vir', 'querer', 'saber', 'chegar', 'partir'\n",
        "    }\n",
        "\n",
        "    # Filter out unwanted tokens\n",
        "    filtered_tokens = [\n",
        "        token.text for token in doc\n",
        "        if token.pos_ not in remove_pos\n",
        "        and token.lemma_.lower() not in common_verbs\n",
        "        and token.is_alpha  # Ensure only alphabetic tokens remain\n",
        "    ]\n",
        "\n",
        "    # Join the filtered tokens back into a sentence\n",
        "    return ' '.join(filtered_tokens)\n",
        "\n",
        "# Example usage for a DataFrame\n",
        "#df['Transcrito_Limpo2'] = df['Transcrito_Limpo'].apply(clean_text)\n",
        "content_tokenized_listed = df['Transcrito_Limpo'].to_list()\n",
        "example = content_tokenized_listed[0]\n",
        "clean_text(example)\n",
        "\n",
        "df2 = df.copy().iloc[:10]\n",
        "df2['Transcrito_Limpo'].apply(clean_text)\n",
        "\n",
        "# Salvando o arquivo\n",
        "# Salvar no formato Excel\n",
        "df.to_excel('noticiasptexpandido_processado.xlsx', index=False)"
      ],
      "metadata": {
        "id": "Yva88z6BZLs5"
      },
      "execution_count": null,
      "outputs": []
    },
    {
      "cell_type": "code",
      "source": [
        "# Function to remove non-word characters and specified words\n",
        "def clean_text(text):\n",
        "    # Remove non-word characters\n",
        "    text = re.sub(r'[^\\w\\s]', '', text)\n",
        "    # Remove specified words\n",
        "    words_to_remove = #inserir aqui as palavras\n",
        "    text = ' '.join([word for word in text.split() if word not in words_to_remove])\n",
        "    return text\n",
        "\n",
        "# Apply the cleaning function to the 'Transcrito_Limpo' column\n",
        "df['Transcrito_Limpo'] = df['Transcrito_Limpo'].apply(clean_text)\n",
        "\n",
        "# Save the modified DataFrame to a new Excel file\n",
        "df.to_excel('noticiaspt_processado_cleaned.xlsx', index=False)\n",
        "\n",
        "# Download the cleaned file\n",
        "files.download('noticiaspt_processado_cleaned.xlsx')"
      ],
      "metadata": {
        "id": "bk3yPoO4ZOel"
      },
      "execution_count": null,
      "outputs": []
    }
  ]
}