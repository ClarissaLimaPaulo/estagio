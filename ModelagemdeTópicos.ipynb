{
  "nbformat": 4,
  "nbformat_minor": 0,
  "metadata": {
    "colab": {
      "provenance": []
    },
    "kernelspec": {
      "name": "python3",
      "display_name": "Python 3"
    },
    "language_info": {
      "name": "python"
    }
  },
  "cells": [
    {
      "cell_type": "code",
      "execution_count": null,
      "metadata": {
        "id": "LK5ZqzXSXxhf"
      },
      "outputs": [],
      "source": [
        "!pip install pandas gensim pyLDAvis matplotlib openpyxl\n",
        "\n",
        "import pandas as pd\n",
        "from gensim import corpora, models\n",
        "import pyLDAvis\n",
        "import pyLDAvis.gensim_models as gensimvis\n",
        "import matplotlib.pyplot as plt"
      ]
    },
    {
      "cell_type": "code",
      "source": [
        "# **ESSA LDA FUNCIONOU PERFEITAMENTE** #\n",
        "\n",
        "# Configurações\n",
        "NUM_TOPICS = 40  # Número de tópicos a ser modelado\n",
        "INPUT_FILE = \"noticiaspt_processado.xlsx\"  # Caminho do arquivo de entrada\n",
        "COLUMN_NAME = \"Transcrito_Limpo\"  # Coluna com o texto processado\n",
        "OUTPUT_VISUALIZATION = \"lda_visualization.html\"  # Arquivo para salvar a visualização\n",
        "\n",
        "# Passo 1: Carregar os dados\n",
        "data = pd.read_excel(INPUT_FILE)\n",
        "texts = data[COLUMN_NAME].dropna().tolist()\n",
        "\n",
        "# Passo 2: Criar o Dicionário e o Corpus\n",
        "dictionary = corpora.Dictionary([text.split() for text in texts])\n",
        "corpus = [dictionary.doc2bow(text.split()) for text in texts]\n",
        "\n",
        "# Passo 3: Treinamento do modelo LDA\n",
        "lda_model = models.LdaModel(\n",
        "    corpus=corpus,\n",
        "    id2word=dictionary,\n",
        "    num_topics=NUM_TOPICS,\n",
        "    random_state=42,\n",
        "    passes=10,\n",
        "    minimum_probability=0\n",
        ")\n",
        "\n",
        "# Passo 4: Gerar distribuições de tópicos para cada documento\n",
        "topic_distribution = []\n",
        "\n",
        "for doc in corpus:\n",
        "    doc_topics = lda_model.get_document_topics(doc, minimum_probability=0)\n",
        "    topic_probs = [float(prob.real) if isinstance(prob, complex) else float(prob)\n",
        "                   for _, prob in doc_topics]\n",
        "    full_distribution = [0.0] * NUM_TOPICS\n",
        "    for topic_id, prob in enumerate(topic_probs):\n",
        "        full_distribution[topic_id] = prob\n",
        "    topic_distribution.append(full_distribution)\n",
        "\n",
        "# Passo 5: Criar um DataFrame com as distribuições de tópicos\n",
        "df_topic_distribution = pd.DataFrame(\n",
        "    topic_distribution,\n",
        "    columns=[f'Tópico {i+1}' for i in range(NUM_TOPICS)]\n",
        ")\n",
        "\n",
        "# Opcional: Salvar o DataFrame em um arquivo CSV\n",
        "df_topic_distribution.to_csv(\"distribuicao_topicos.csv\", index=False)\n",
        "\n",
        "# Passo 6: Visualizar os tópicos com pyLDAvis\n",
        "pyLDAvis.enable_notebook()  # Ativa para notebooks Jupyter\n",
        "lda_vis = gensimvis.prepare(lda_model, corpus, dictionary)\n",
        "pyLDAvis.save_html(lda_vis, OUTPUT_VISUALIZATION)\n",
        "\n",
        "print(f\"Visualização dos tópicos salva em: {OUTPUT_VISUALIZATION}\")"
      ],
      "metadata": {
        "id": "RelyLqfGYJKi"
      },
      "execution_count": null,
      "outputs": []
    },
    {
      "cell_type": "code",
      "source": [
        "import pandas as pd\n",
        "\n",
        "# Assuming lda_model, dictionary, and corpus are already defined from previous code\n",
        "\n",
        "def get_topic_word_lists(lda_model, num_words=10):\n",
        "    \"\"\"\n",
        "    Extracts the top words for each topic from the LDA model and groups them by topic.\n",
        "\n",
        "    Args:\n",
        "        lda_model: The trained LDA model.\n",
        "        num_words: The number of top words to extract per topic.\n",
        "\n",
        "    Returns:\n",
        "        A dictionary where keys are topic numbers and values are lists of top words.\n",
        "    \"\"\"\n",
        "    topic_word_lists = {}\n",
        "    for topic_num in range(lda_model.num_topics):\n",
        "        words = lda_model.show_topic(topic_num, topn=num_words)\n",
        "        word_list = [word for word, prob in words]\n",
        "        topic_word_lists[topic_num + 1] = word_list  # Adding 1 to topic number for readability\n",
        "    return topic_word_lists\n",
        "\n",
        "topic_word_lists = get_topic_word_lists(lda_model)\n",
        "\n",
        "# Convert to DataFrame for easier export to Excel\n",
        "topic_words_df = pd.DataFrame.from_dict(topic_word_lists, orient='index').transpose()\n",
        "topic_words_df.index.name = 'Topic Word'\n",
        "\n",
        "# Save to Excel\n",
        "topic_words_df.to_excel('topic_word_lists.xlsx')\n",
        "\n",
        "# Download the file (Google Colab specific)\n",
        "from google.colab import files\n",
        "files.download('topic_word_lists.xlsx')"
      ],
      "metadata": {
        "id": "mgvFKTtUYRly"
      },
      "execution_count": null,
      "outputs": []
    }
  ]
}